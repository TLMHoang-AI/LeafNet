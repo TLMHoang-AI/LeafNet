{
 "cells": [
  {
   "cell_type": "code",
   "execution_count": 3,
   "id": "bc14db9d-c461-44e3-9f22-66e0c29ca450",
   "metadata": {
    "execution": {
     "iopub.execute_input": "2025-05-07T03:05:30.842993Z",
     "iopub.status.busy": "2025-05-07T03:05:30.842690Z",
     "iopub.status.idle": "2025-05-07T03:05:34.490430Z",
     "shell.execute_reply": "2025-05-07T03:05:34.489454Z",
     "shell.execute_reply.started": "2025-05-07T03:05:30.842969Z"
    },
    "trusted": true
   },
   "outputs": [
    {
     "name": "stdout",
     "output_type": "stream",
     "text": [
      "Requirement already satisfied: mahotas in /usr/local/lib/python3.11/dist-packages (1.4.18)\n",
      "Requirement already satisfied: numpy in /usr/local/lib/python3.11/dist-packages (from mahotas) (1.26.4)\n",
      "Requirement already satisfied: mkl_fft in /usr/local/lib/python3.11/dist-packages (from numpy->mahotas) (1.3.8)\n",
      "Requirement already satisfied: mkl_random in /usr/local/lib/python3.11/dist-packages (from numpy->mahotas) (1.2.4)\n",
      "Requirement already satisfied: mkl_umath in /usr/local/lib/python3.11/dist-packages (from numpy->mahotas) (0.1.1)\n",
      "Requirement already satisfied: mkl in /usr/local/lib/python3.11/dist-packages (from numpy->mahotas) (2025.1.0)\n",
      "Requirement already satisfied: tbb4py in /usr/local/lib/python3.11/dist-packages (from numpy->mahotas) (2022.1.0)\n",
      "Requirement already satisfied: mkl-service in /usr/local/lib/python3.11/dist-packages (from numpy->mahotas) (2.4.1)\n",
      "Requirement already satisfied: intel-openmp<2026,>=2024 in /usr/local/lib/python3.11/dist-packages (from mkl->numpy->mahotas) (2024.2.0)\n",
      "Requirement already satisfied: tbb==2022.* in /usr/local/lib/python3.11/dist-packages (from mkl->numpy->mahotas) (2022.1.0)\n",
      "Requirement already satisfied: tcmlib==1.* in /usr/local/lib/python3.11/dist-packages (from tbb==2022.*->mkl->numpy->mahotas) (1.2.0)\n",
      "Requirement already satisfied: intel-cmplr-lib-rt in /usr/local/lib/python3.11/dist-packages (from mkl_umath->numpy->mahotas) (2024.2.0)\n",
      "Requirement already satisfied: intel-cmplr-lib-ur==2024.2.0 in /usr/local/lib/python3.11/dist-packages (from intel-openmp<2026,>=2024->mkl->numpy->mahotas) (2024.2.0)\n",
      "Note: you may need to restart the kernel to use updated packages.\n"
     ]
    }
   ],
   "source": [
    "pip install mahotas"
   ]
  },
  {
   "cell_type": "code",
   "execution_count": 4,
   "id": "initial_id",
   "metadata": {
    "ExecuteTime": {
     "end_time": "2025-03-10T10:22:01.305199Z",
     "start_time": "2025-03-10T10:22:00.001087Z"
    },
    "execution": {
     "iopub.execute_input": "2025-05-07T03:05:34.492529Z",
     "iopub.status.busy": "2025-05-07T03:05:34.492242Z",
     "iopub.status.idle": "2025-05-07T03:05:34.498756Z",
     "shell.execute_reply": "2025-05-07T03:05:34.497780Z",
     "shell.execute_reply.started": "2025-05-07T03:05:34.492502Z"
    },
    "trusted": true
   },
   "outputs": [],
   "source": [
    "import numpy as np\n",
    "import cv2\n",
    "from skimage.feature import local_binary_pattern, graycomatrix, graycoprops\n",
    "import os\n",
    "import pandas as pd\n",
    "from skimage.measure import shannon_entropy\n",
    "import mahotas\n",
    "from tqdm import tqdm\n",
    "from scipy.stats import skew, kurtosis\n",
    "import pywt"
   ]
  },
  {
   "cell_type": "code",
   "execution_count": null,
   "id": "4a325e038dde3f28",
   "metadata": {
    "ExecuteTime": {
     "end_time": "2025-03-10T10:22:01.321028Z",
     "start_time": "2025-03-10T10:22:01.305199Z"
    },
    "execution": {
     "iopub.execute_input": "2025-05-07T03:05:39.569474Z",
     "iopub.status.busy": "2025-05-07T03:05:39.569060Z",
     "iopub.status.idle": "2025-05-07T03:05:39.578583Z",
     "shell.execute_reply": "2025-05-07T03:05:39.577707Z",
     "shell.execute_reply.started": "2025-05-07T03:05:39.569449Z"
    },
    "trusted": true
   },
   "outputs": [],
   "source": [
    "def compute_zernike_moments(image, degree=8): # 25 features\n",
    "\n",
    "    image = cv2.cvtColor(image, cv2.COLOR_BGR2GRAY)\n",
    "    _, new_img = cv2.threshold(image, 1, 255, cv2.THRESH_BINARY)\n",
    "    contours, _ = cv2.findContours(new_img, cv2.RETR_EXTERNAL, cv2.CHAIN_APPROX_SIMPLE)\n",
    "    \n",
    "    contour = max(contours, key=cv2.contourArea)\n",
    "    \n",
    "    mask = np.zeros(new_img.shape, dtype=np.uint8)\n",
    "    cv2.drawContours(mask, [contour], contourIdx=-1, color=(255,), thickness=-1)\n",
    "    binary = (mask > 0).astype(np.uint8)\n",
    "\n",
    "    (x, y), radius = cv2.minEnclosingCircle(contour)\n",
    "    x, y = int(x), int(y)\n",
    "    radius = int(np.ceil(radius))\n",
    "    x1 = max(x - radius, 0)\n",
    "    y1 = max(y - radius, 0)\n",
    "    x2 = x + radius\n",
    "    y2 = y + radius\n",
    "\n",
    "    cropped_mask = binary[y1:y2, x1:x2]\n",
    "\n",
    "    h, w = cropped_mask.shape\n",
    "    if h != w:\n",
    "        size = max(h, w)\n",
    "        square_mask = np.zeros((size, size), dtype=np.uint8)\n",
    "        y_offset = (size - h) // 2\n",
    "        x_offset = (size - w) // 2\n",
    "        square_mask[y_offset:y_offset+h, x_offset:x_offset+w] = cropped_mask\n",
    "    else:\n",
    "        square_mask = cropped_mask\n",
    "\n",
    "    effective_radius = square_mask.shape[0] // 2\n",
    "    zernike_moments = mahotas.features.zernike_moments(square_mask, effective_radius, degree)\n",
    "\n",
    "    return {f\"Zernike_{i}\": zernike_moments[i] for i in range(len(zernike_moments))}"
   ]
  },
  {
   "cell_type": "code",
   "execution_count": 7,
   "id": "8e0aa474b6311fa0",
   "metadata": {
    "ExecuteTime": {
     "end_time": "2025-03-10T10:22:01.327948Z",
     "start_time": "2025-03-10T10:22:01.321028Z"
    },
    "execution": {
     "iopub.execute_input": "2025-05-07T03:05:39.580340Z",
     "iopub.status.busy": "2025-05-07T03:05:39.579976Z",
     "iopub.status.idle": "2025-05-07T03:05:39.602067Z",
     "shell.execute_reply": "2025-05-07T03:05:39.600803Z",
     "shell.execute_reply.started": "2025-05-07T03:05:39.580313Z"
    },
    "trusted": true
   },
   "outputs": [],
   "source": [
    "def compute_lbp_feature(image): # 10 features\n",
    "    image = cv2.cvtColor(image, cv2.COLOR_BGR2GRAY)\n",
    "    lbp = local_binary_pattern(image, R=1, P=8, method=\"nri_uniform\")\n",
    "    hist, bins = np.histogram(lbp.flatten(), bins=10, range=(0, 10))\n",
    "    return {f\"LBP_{i}\": hist[i] for i in range(len(hist))}"
   ]
  },
  {
   "cell_type": "code",
   "execution_count": 8,
   "id": "c8de0d038a2e004f",
   "metadata": {
    "ExecuteTime": {
     "end_time": "2025-03-10T10:22:01.487389Z",
     "start_time": "2025-03-10T10:22:01.471577Z"
    },
    "execution": {
     "iopub.execute_input": "2025-05-07T03:05:39.603794Z",
     "iopub.status.busy": "2025-05-07T03:05:39.603334Z",
     "iopub.status.idle": "2025-05-07T03:05:39.622999Z",
     "shell.execute_reply": "2025-05-07T03:05:39.622115Z",
     "shell.execute_reply.started": "2025-05-07T03:05:39.603764Z"
    },
    "trusted": true
   },
   "outputs": [],
   "source": [
    "def compute_texture_feature(image): # 4 features\n",
    "    image = cv2.cvtColor(image, cv2.COLOR_BGR2GRAY)\n",
    "    hist, bins = np.histogram(image.flatten(), bins=256, range=(0, 256), density=True)\n",
    "    bins = bins[:-1]\n",
    "    mean = np.sum(hist * bins)\n",
    "    std = np.sqrt(np.sum((bins - mean)**2 * hist))\n",
    "    uniformity = np.sum(hist**2)\n",
    "    third_moment = np.sum((bins - mean)**3 * hist)\n",
    "    return {\n",
    "        \"texture_mean\": mean,\n",
    "        \"texture_std\": std,\n",
    "        \"texture_uniformity\": uniformity,\n",
    "        \"texture_third_moment\": third_moment\n",
    "    }"
   ]
  },
  {
   "cell_type": "code",
   "execution_count": 9,
   "id": "8570c1ae99adabad",
   "metadata": {
    "ExecuteTime": {
     "end_time": "2025-03-10T10:22:01.569254Z",
     "start_time": "2025-03-10T10:22:01.535479Z"
    },
    "execution": {
     "iopub.execute_input": "2025-05-07T03:05:39.624443Z",
     "iopub.status.busy": "2025-05-07T03:05:39.624139Z",
     "iopub.status.idle": "2025-05-07T03:05:39.648189Z",
     "shell.execute_reply": "2025-05-07T03:05:39.647244Z",
     "shell.execute_reply.started": "2025-05-07T03:05:39.624418Z"
    },
    "trusted": true
   },
   "outputs": [],
   "source": [
    "def compute_color_feature(image):\n",
    "\n",
    "\n",
    "    # BGR\n",
    "    B, G, R = cv2.split(image)\n",
    "    mean_R, mean_G, mean_B = np.mean(R), np.mean(G), np.mean(B)\n",
    "    sqrt_R, sqrt_G, sqrt_B = np.sqrt(mean_R), np.sqrt(mean_G), np.sqrt(mean_B)\n",
    "    std_R, std_G, std_B = np.std(R), np.std(G), np.std(B)\n",
    "    skew_R, skew_G, skew_B = skew(R.flatten()), skew(G.flatten()), skew(B.flatten())\n",
    "    kur_R, kur_G, kur_B = kurtosis(R.flatten()), kurtosis(G.flatten()), kurtosis(B.flatten())\n",
    "\n",
    "\n",
    "    # HSV\n",
    "    hsv_img = cv2.cvtColor(image, cv2.COLOR_BGR2HSV)\n",
    "    h, s, v = cv2.split(hsv_img)\n",
    "    mean_h, mean_s, mean_v = np.mean(h), np.mean(s), np.mean(v)\n",
    "    std_h, std_s, std_v = np.std(h), np.std(s), np.std(v)\n",
    "    sqrt_h, sqrt_s, sqrt_v = np.sqrt(mean_h), np.sqrt(mean_s), np.sqrt(mean_v)\n",
    "    skew_h, skew_s, skew_v = skew(h.flatten()), skew(s.flatten()), skew(v.flatten())\n",
    "    kur_h, kur_s, kur_v = kurtosis(h.flatten()), kurtosis(s.flatten()), kurtosis(v.flatten())\n",
    "\n",
    "\n",
    "    # Lab\n",
    "    lab_img = cv2.cvtColor(image, cv2.COLOR_BGR2LAB)\n",
    "    l, a, b = cv2.split(lab_img)\n",
    "    mean_l, mean_a, mean_b = np.mean(l), np.mean(a), np.mean(b)\n",
    "    std_l, std_a, std_b = np.std(l), np.std(a), np.std(b)\n",
    "    sqrt_l, sqrt_a, sqrt_b = np.sqrt(mean_l), np.sqrt(mean_a), np.sqrt(mean_b)\n",
    "    skew_l, skew_a, skew_b = skew(l.flatten()), skew(a.flatten()), skew(b.flatten())\n",
    "    kur_l, kur_a, kur_b = kurtosis(l.flatten()), kurtosis(a.flatten()), kurtosis(b.flatten())\n",
    "\n",
    "\n",
    "    # YCbCr\n",
    "    ycrcb_img = cv2.cvtColor(image, cv2.COLOR_BGR2YCrCb)\n",
    "    y, cr, cb = cv2.split(ycrcb_img)\n",
    "    mean_y, mean_cr, mean_cb = np.mean(y), np.mean(cr), np.mean(cb)\n",
    "    std_y, std_cr, std_cb = np.std(y), np.std(cr), np.std(cb)\n",
    "    sqrt_y, sqrt_cr, sqrt_cb = np.sqrt(mean_y), np.sqrt(mean_cr), np.sqrt(mean_cb)\n",
    "    skew_y, skew_cr, skew_cb = skew(y.flatten()), skew(cr.flatten()), skew(cb.flatten())\n",
    "    kur_y, kur_cr, kur_cb = kurtosis(y.flatten()), kurtosis(cr.flatten()), kurtosis(cb.flatten())\n",
    "\n",
    "\n",
    "    # XYZ\n",
    "    xyz_img = cv2.cvtColor(image, cv2.COLOR_BGR2XYZ)\n",
    "    X, Y, Z = cv2.split(xyz_img)\n",
    "    mean_X, mean_Y, mean_Z = np.mean(X), np.mean(Y), np.mean(Z)\n",
    "    std_X, std_Y, std_Z = np.std(X), np.std(Y), np.std(Z)\n",
    "    sqrt_X, sqrt_Y, sqrt_Z = np.sqrt(mean_X), np.sqrt(mean_Y), np.sqrt(mean_Z)\n",
    "    skew_X, skew_Y, skew_Z = skew(X.flatten()), skew(Y.flatten()), skew(Z.flatten())\n",
    "    kur_X, kur_Y, kur_Z = kurtosis(X.flatten()), kurtosis(Y.flatten()), kurtosis(Z.flatten())\n",
    "\n",
    "\n",
    "    return {\"mean_r\": mean_R, \"mean_g\": mean_G, \"mean_B\": mean_B,\n",
    "            \"sqrt_r\": sqrt_R, \"sqrt_g\": sqrt_G, \"sqrt_B\": sqrt_B,\n",
    "            \"std_r\": std_R, \"std_g\": std_G, \"std_B\": std_B,\n",
    "            \"skew_r\": skew_R, \"skew_g\": skew_G, \"skew_B\": skew_B,\n",
    "            \"kur_r\": kur_R, \"kur_g\": kur_G, \"kur_B\": kur_B,\n",
    "\n",
    "\n",
    "            \"mean_h\": mean_h, \"mean_s\": mean_s, \"mean_v\": mean_v,\n",
    "            \"std_h\": std_h, \"std_s\": std_s, \"std_v\": std_v,\n",
    "            \"sqrt_h\": sqrt_h, \"sqrt_s\": sqrt_s, \"sqrt_v\": sqrt_v,\n",
    "            \"skew_h\": skew_h, \"skew_s\": skew_s, \"skew_v\": skew_v,\n",
    "            \"kur_h\": kur_h, \"kur_s\": kur_s, \"kur_v\": kur_v,\n",
    "    \n",
    "\n",
    "            \"mean_l\": mean_l, \"mean_a\": mean_a, \"mean_b\": mean_b,\n",
    "            \"std_l\": std_l, \"std_a\": std_a, \"std_b\": std_b,\n",
    "            \"sqrt_l\": sqrt_l, \"sqrt_a\": sqrt_a, \"sqrt_b\": sqrt_b,\n",
    "            \"skew_l\": skew_l, \"skew_a\": skew_a, \"skew_b\": skew_b,\n",
    "            \"kur_l\": kur_l, \"kur_a\": kur_a, \"kur_b\": kur_b,\n",
    "\n",
    "\n",
    "            \"mean_y\": mean_y, \"mean_cb\": mean_cb, \"mean_cr\": mean_cr,\n",
    "            \"std_y\": std_y, \"std_cb\": std_cb, \"std_cr\": std_cr,\n",
    "            \"sqrt_y\": sqrt_y, \"sqrt_cb\": sqrt_cb, \"sqrt_cr\": sqrt_cr,\n",
    "            \"skew_y\": skew_y, \"skew_cb\": skew_cb, \"skew_cr\": skew_cr,\n",
    "            \"kur_y\": kur_y, \"kur_cb\": kur_cb, \"kur_cr\": kur_cr,\n",
    "\n",
    "            \"mean_x\": mean_X, \"mean_Y\": mean_Y, \"mean_z\": mean_Z,\n",
    "            \"std_x\": std_X, \"std_Y\": std_Y, \"std_z\": std_Z,\n",
    "            \"sqrt_x\": sqrt_X, \"sqrt_Y\": sqrt_Y, \"sqrt_z\": sqrt_Z,\n",
    "            \"skew_x\": skew_X, \"skew_Y\": skew_Y, \"skew_z\": skew_Z,\n",
    "            \"kur_x\": kur_X, \"kur_Y\": kur_Y, \"kur_z\": kur_Z,\n",
    "\n",
    "            }"
   ]
  },
  {
   "cell_type": "code",
   "execution_count": null,
   "id": "f868bf55671da852",
   "metadata": {
    "ExecuteTime": {
     "end_time": "2025-03-10T10:22:01.585056Z",
     "start_time": "2025-03-10T10:22:01.569254Z"
    },
    "execution": {
     "iopub.execute_input": "2025-05-07T03:05:39.689049Z",
     "iopub.status.busy": "2025-05-07T03:05:39.688778Z",
     "iopub.status.idle": "2025-05-07T03:05:39.700886Z",
     "shell.execute_reply": "2025-05-07T03:05:39.699767Z",
     "shell.execute_reply.started": "2025-05-07T03:05:39.689031Z"
    },
    "trusted": true
   },
   "outputs": [],
   "source": [
    "def compute_basic_feature(image):  # 8 features\n",
    "    gray = cv2.cvtColor(image, cv2.COLOR_BGR2GRAY)\n",
    "    _, thresh = cv2.threshold(gray, 1, 255, cv2.THRESH_BINARY)\n",
    "    contours, _ = cv2.findContours(thresh, cv2.RETR_EXTERNAL, cv2.CHAIN_APPROX_SIMPLE)\n",
    "    if not contours:\n",
    "        return {\n",
    "            \"area\": 0, \"length\": 0, \"width\": 0, \"ratio\": 0,\n",
    "            \"major_axis_length\": 0, \"minor_axis_length\": 0,\n",
    "            \"convex_hull_area\": 0, \"convex_hull_perimeter\": 0,\n",
    "            \"shape_factor_1\": 0, \"shape_factor_2\": 0,\n",
    "            \"shape_factor_3\": 0, \"shape_factor_4\": 0,\n",
    "            \"equivalent_diameter\": 0, \"aspect_ratio\": 0,\n",
    "            \"perimeter\": 0, \"roundness\": 0,\n",
    "            \"compactness\": 0, \"solidity\": 0\n",
    "        }\n",
    "    contour = max(contours, key=cv2.contourArea)\n",
    "    area = cv2.contourArea(contour)\n",
    "\n",
    "    peri = cv2.arcLength(contour, True)\n",
    "    x, y, w, h = cv2.boundingRect(contour)\n",
    "\n",
    "    length = x + w\n",
    "    width = y + h\n",
    "    ratio = length / width if width != 0 else 0\n",
    "    if len(contour) >= 5:\n",
    "        ellipse = cv2.fitEllipse(contour)\n",
    "        major_axis = max(ellipse[1])\n",
    "        minor_axis = min(ellipse[1])\n",
    "    else:\n",
    "        major_axis = 0\n",
    "        minor_axis = 0\n",
    "    # ellipse = cv2.fitEllipse(contour)\n",
    "    # major_axis = max(ellipse[1])\n",
    "    # minor_axis = min(ellipse[1])\n",
    "\n",
    "    hull = cv2.convexHull(contour)\n",
    "    hull_area = cv2.contourArea(hull)\n",
    "    hull_perimeter = cv2.arcLength(hull, True)\n",
    "\n",
    "    sf1 = major_axis / area if area != 0 else 0\n",
    "    sf2 = minor_axis / area if area != 0 else 0\n",
    "    sf3 = area / ((0.5 * major_axis)**2 * np.pi) if major_axis != 0 else 0\n",
    "    sf4 = area / (0.5**2 * major_axis * minor_axis * np.pi) if major_axis * minor_axis != 0 else 0\n",
    "\n",
    "    ed = np.sqrt(4 * area / np.pi) if area != 0 else 0\n",
    "    ar = major_axis / minor_axis if minor_axis != 0 else 0\n",
    "    roundness = (4 * area * np.pi) / peri**2 if peri != 0 else 0\n",
    "    Co = ed / major_axis if major_axis != 0 else 0\n",
    "    solid = area / hull_area if hull_area != 0 else 0\n",
    "\n",
    "    return {\n",
    "        \"area\": area,\n",
    "        \"length\": length,\n",
    "        \"width\": width,\n",
    "        \"ratio\": ratio,\n",
    "        \"major_axis_length\": major_axis,\n",
    "        \"minor_axis_length\": minor_axis,\n",
    "        \"convex_hull_area\": hull_area,\n",
    "        \"convex_hull_perimeter\": hull_perimeter,\n",
    "        \"shape_factor_1\": sf1,\n",
    "        \"shape_factor_2\": sf2,\n",
    "        \"shape_factor_3\": sf3,\n",
    "        \"shape_factor_4\": sf4,\n",
    "        \"equivalent_diameter\": ed,\n",
    "        \"aspect_ratio\": ar,\n",
    "        \"perimeter\": peri,\n",
    "        \"roundness\": roundness,\n",
    "        \"compactness\": Co,\n",
    "        \"solidity\": solid\n",
    "    }\n"
   ]
  },
  {
   "cell_type": "code",
   "execution_count": null,
   "id": "f5dd81fb45d18ed8",
   "metadata": {
    "ExecuteTime": {
     "end_time": "2025-03-10T10:22:01.617141Z",
     "start_time": "2025-03-10T10:22:01.601161Z"
    },
    "execution": {
     "iopub.execute_input": "2025-05-07T03:05:39.703017Z",
     "iopub.status.busy": "2025-05-07T03:05:39.702756Z",
     "iopub.status.idle": "2025-05-07T03:05:39.725998Z",
     "shell.execute_reply": "2025-05-07T03:05:39.724899Z",
     "shell.execute_reply.started": "2025-05-07T03:05:39.702999Z"
    },
    "trusted": true
   },
   "outputs": [],
   "source": [
    "def compute_glcm_descriptor(image): # 16 features\n",
    "    if image is None:\n",
    "        return None\n",
    "    image = cv2.cvtColor(image, cv2.COLOR_BGR2GRAY)\n",
    "    \n",
    "    distance = [3]\n",
    "    angles = [0, np.pi/4, np.pi/2, 3*np.pi/4]  # 0°, 45°, 90°, 135°\n",
    "    properties = ['contrast', 'correlation', 'energy', 'homogeneity']\n",
    "\n",
    "    glcm = graycomatrix(image, distances=distance, angles=angles, symmetric=True, normed=True)\n",
    "\n",
    "    features = []\n",
    "    for prop in properties:\n",
    "        feature = graycoprops(glcm, prop).flatten()\n",
    "        features.extend(feature)\n",
    "\n",
    "    return {f\"GLCM_{i}\": features[i] for i in range(len(features))}"
   ]
  },
  {
   "cell_type": "code",
   "execution_count": 12,
   "id": "9982c86a05fb6371",
   "metadata": {
    "ExecuteTime": {
     "end_time": "2025-03-10T10:22:01.649146Z",
     "start_time": "2025-03-10T10:22:01.633134Z"
    },
    "execution": {
     "iopub.execute_input": "2025-05-07T03:05:39.727526Z",
     "iopub.status.busy": "2025-05-07T03:05:39.727182Z",
     "iopub.status.idle": "2025-05-07T03:05:39.746262Z",
     "shell.execute_reply": "2025-05-07T03:05:39.745258Z",
     "shell.execute_reply.started": "2025-05-07T03:05:39.727498Z"
    },
    "trusted": true
   },
   "outputs": [],
   "source": [
    "def compute_percentile_features(image):\n",
    "    features = {}\n",
    "\n",
    "    percentiles = [5, 25, 50, 75, 95]\n",
    "\n",
    "    for color_space, prefix, channel_names in [\n",
    "        (None, 'bgr', ['B', 'G', 'R']),\n",
    "        (cv2.COLOR_BGR2HSV, 'hsv', ['H', 'S', 'V']),\n",
    "        (cv2.COLOR_BGR2LAB, 'lab', ['L', 'A', 'B']),\n",
    "        (cv2.COLOR_BGR2YCrCb, 'ycrcb', ['Y', 'Cr', 'Cb']),\n",
    "        (cv2.COLOR_BGR2XYZ, 'xyz', ['X', 'Y', 'Z'])\n",
    "    ]:\n",
    "        if color_space is None:\n",
    "            converted = image\n",
    "        else:\n",
    "            converted = cv2.cvtColor(image, color_space)\n",
    "\n",
    "        channels = cv2.split(converted)\n",
    "\n",
    "        for i, channel_name in enumerate(channel_names):\n",
    "            for p in percentiles:\n",
    "                value = np.percentile(channels[i], p)\n",
    "                features[f'pf_{prefix}_{channel_name.lower()}_p{p}'] = value\n",
    "\n",
    "    return features\n"
   ]
  },
  {
   "cell_type": "code",
   "execution_count": 13,
   "id": "ece414d5c3d8b89c",
   "metadata": {
    "ExecuteTime": {
     "end_time": "2025-03-10T10:22:01.680831Z",
     "start_time": "2025-03-10T10:22:01.665117Z"
    },
    "execution": {
     "iopub.execute_input": "2025-05-07T03:05:39.748442Z",
     "iopub.status.busy": "2025-05-07T03:05:39.747651Z",
     "iopub.status.idle": "2025-05-07T03:05:39.770888Z",
     "shell.execute_reply": "2025-05-07T03:05:39.769882Z",
     "shell.execute_reply.started": "2025-05-07T03:05:39.748408Z"
    },
    "trusted": true
   },
   "outputs": [],
   "source": [
    "def compute_color_variance_ratios(image):\n",
    "    features = {}\n",
    "\n",
    "    # BGR\n",
    "    B, G, R = cv2.split(image)\n",
    "    var_B, var_G, var_R = np.var(B), np.var(G), np.var(R)\n",
    "\n",
    "    # Variance ratios\n",
    "    features['var_ratio_R_G'] = var_R / (var_G + 1e-7)\n",
    "    features['var_ratio_R_B'] = var_R / (var_B + 1e-7)\n",
    "    features['var_ratio_G_B'] = var_G / (var_B + 1e-7)\n",
    "\n",
    "    # HSV\n",
    "    hsv_img = cv2.cvtColor(image, cv2.COLOR_BGR2HSV)\n",
    "    H, S, V = cv2.split(hsv_img)\n",
    "    var_H, var_S, var_V = np.var(H), np.var(S), np.var(V)\n",
    "\n",
    "    features['var_ratio_H_S'] = var_H / (var_S + 1e-7)\n",
    "    features['var_ratio_H_V'] = var_H / (var_V + 1e-7)\n",
    "    features['var_ratio_S_V'] = var_S / (var_V + 1e-7)\n",
    "\n",
    "    # Lab\n",
    "    lab_img = cv2.cvtColor(image, cv2.COLOR_BGR2LAB)\n",
    "    L, A, B_lab = cv2.split(lab_img)\n",
    "    var_L, var_A, var_B_lab = np.var(L), np.var(A), np.var(B_lab)\n",
    "\n",
    "    features['var_ratio_L_A'] = var_L / (var_A + 1e-7)\n",
    "    features['var_ratio_L_B'] = var_L / (var_B_lab + 1e-7)\n",
    "    features['var_ratio_A_B'] = var_A / (var_B_lab + 1e-7)\n",
    "\n",
    "    return features"
   ]
  },
  {
   "cell_type": "code",
   "execution_count": 14,
   "id": "dd7207274ae9a8f3",
   "metadata": {
    "ExecuteTime": {
     "end_time": "2025-03-10T10:22:01.713020Z",
     "start_time": "2025-03-10T10:22:01.696962Z"
    },
    "execution": {
     "iopub.execute_input": "2025-05-07T03:05:39.774292Z",
     "iopub.status.busy": "2025-05-07T03:05:39.773934Z",
     "iopub.status.idle": "2025-05-07T03:05:39.789309Z",
     "shell.execute_reply": "2025-05-07T03:05:39.788297Z",
     "shell.execute_reply.started": "2025-05-07T03:05:39.774268Z"
    },
    "trusted": true
   },
   "outputs": [],
   "source": [
    "def compute_color_range_features(image):\n",
    "    features = {}\n",
    "    iters = [(None, 'bgr', ['B', 'G', 'R']),\n",
    "             (cv2.COLOR_BGR2HSV, 'hsv', ['H', 'S', 'V']),\n",
    "             (cv2.COLOR_BGR2LAB, 'lab', ['L', 'A', 'B']),\n",
    "             (cv2.COLOR_BGR2YCrCb, 'ycrcb', ['Y', 'Cr', 'Cb']),\n",
    "             (cv2.COLOR_BGR2XYZ, 'xyz', ['X', 'Y', 'Z'])\n",
    "    ]\n",
    "    for color_space, prefix, channel_names in iters:\n",
    "        if color_space is None:\n",
    "            converted = image\n",
    "        else:\n",
    "            converted = cv2.cvtColor(image, color_space)\n",
    "\n",
    "        channels = cv2.split(converted)\n",
    "\n",
    "        for i, channel_name in enumerate(channel_names):\n",
    "            channel = channels[i]\n",
    "\n",
    "            # Range\n",
    "            features[f'range_{prefix}_{channel_name.lower()}_range'] = np.max(channel) - np.min(channel)\n",
    "\n",
    "            # Interquartile range\n",
    "            features[f'iqr_{prefix}_{channel_name.lower()}_iqr'] = np.percentile(channel, 75) - np.percentile(channel, 25)\n",
    "\n",
    "            # Mode + mode concentration\n",
    "            hist, bin_edges = np.histogram(channel, bins=256, range=(0, 256))\n",
    "            mode_bin = np.argmax(hist)\n",
    "            mode_value = (bin_edges[mode_bin] + bin_edges[mode_bin + 1]) / 2\n",
    "            mode_concentration = hist[mode_bin] / np.sum(hist)\n",
    "\n",
    "            features[f'mv_{prefix}_{channel_name.lower()}_mode'] = mode_value\n",
    "            features[f'mc_{prefix}_{channel_name.lower()}_mode_conc'] = mode_concentration\n",
    "\n",
    "    return features"
   ]
  },
  {
   "cell_type": "markdown",
   "id": "3e269023",
   "metadata": {},
   "source": [
    "## SIFT + GIST laau qua nen chua thu"
   ]
  },
  {
   "cell_type": "code",
   "execution_count": null,
   "id": "c8025dfd-b494-4637-bd7e-f7c7de6c6a69",
   "metadata": {
    "execution": {
     "iopub.execute_input": "2025-05-07T03:05:39.791041Z",
     "iopub.status.busy": "2025-05-07T03:05:39.790504Z",
     "iopub.status.idle": "2025-05-07T03:05:39.843961Z",
     "shell.execute_reply": "2025-05-07T03:05:39.843012Z",
     "shell.execute_reply.started": "2025-05-07T03:05:39.791019Z"
    },
    "trusted": true
   },
   "outputs": [],
   "source": [
    "import cv2\n",
    "import numpy as np\n",
    "from skimage import filters, transform\n",
    "from scipy import fftpack\n",
    "\n",
    "def compute_sift_features(image):\n",
    "\n",
    "    if image is None:\n",
    "        return {}\n",
    "\n",
    "    gray = cv2.cvtColor(image, cv2.COLOR_BGR2GRAY)\n",
    "\n",
    "    sift = cv2.SIFT_create()\n",
    "\n",
    "    keypoints, descriptors = sift.detectAndCompute(gray, None)\n",
    "\n",
    "    features = {}\n",
    "    \n",
    "    if descriptors is not None and len(descriptors) > 0:\n",
    "        # Summarize descriptors\n",
    "        features['sift_descriptor_mean'] = np.mean(descriptors, axis=0).mean()  \n",
    "        features['sift_descriptor_std'] = np.std(descriptors, axis=0).mean()   \n",
    "        features['sift_keypoint_count'] = len(keypoints)                    \n",
    "    else:\n",
    "        features['sift_descriptor_mean'] = 0.0\n",
    "        features['sift_descriptor_std'] = 0.0\n",
    "        features['sift_keypoint_count'] = 0\n",
    "\n",
    "    return features\n",
    "\n",
    "def compute_gist_features(image, nblocks=4, orientations_per_scale=(8, 8, 4)):\n",
    "\n",
    "    if image is None:\n",
    "        return {}\n",
    "\n",
    "    gray = cv2.cvtColor(image, cv2.COLOR_BGR2GRAY)\n",
    "    gray = transform.resize(gray, (128, 128), anti_aliasing=True)\n",
    "\n",
    "    # Parameters\n",
    "    nblocks = nblocks  \n",
    "    block_size = 128 // nblocks  # Size block\n",
    "    features = []\n",
    "\n",
    "    scales = len(orientations_per_scale)\n",
    "    frequencies = [0.2, 0.1, 0.05][:scales]  \n",
    "    orientations = orientations_per_scale\n",
    "\n",
    "    # Apply Gabor filters\n",
    "    for scale, (freq, n_orient) in enumerate(zip(frequencies, orientations)):\n",
    "        for theta in np.linspace(0, np.pi, n_orient, endpoint=False):\n",
    "            #Gabor filter\n",
    "            sigma = 1.0 / freq\n",
    "            kernel = cv2.getGaborKernel((21, 21), sigma, theta, 1.0 / freq, 0.5, 0, ktype=cv2.CV_32F)\n",
    "            \n",
    "            # Filter image\n",
    "            filtered = cv2.filter2D(gray, cv2.CV_32F, kernel)\n",
    "            \n",
    "            for i in range(nblocks):\n",
    "                for j in range(nblocks):\n",
    "                    block = filtered[i*block_size:(i+1)*block_size, j*block_size:(j+1)*block_size]\n",
    "                    energy = np.mean(block**2)\n",
    "                    features.append(energy)\n",
    "\n",
    "    feature_dict = {f'gist_{i}': val for i, val in enumerate(features)}\n",
    "    \n",
    "    return feature_dict"
   ]
  },
  {
   "cell_type": "code",
   "execution_count": null,
   "id": "255e27f28e0c3405",
   "metadata": {
    "ExecuteTime": {
     "end_time": "2025-03-10T10:22:01.744617Z",
     "start_time": "2025-03-10T10:22:01.728866Z"
    },
    "execution": {
     "iopub.execute_input": "2025-05-07T03:05:39.845382Z",
     "iopub.status.busy": "2025-05-07T03:05:39.844831Z",
     "iopub.status.idle": "2025-05-07T03:05:39.851879Z",
     "shell.execute_reply": "2025-05-07T03:05:39.850916Z",
     "shell.execute_reply.started": "2025-05-07T03:05:39.845360Z"
    },
    "trusted": true
   },
   "outputs": [],
   "source": [
    "def extract_all_features(image):\n",
    "\n",
    "    features = {}\n",
    "\n",
    "    lbp_hist = compute_lbp_feature(image)\n",
    "    features.update(lbp_hist)\n",
    "\n",
    "    texture_features = compute_texture_feature(image)\n",
    "    features.update(texture_features)\n",
    "\n",
    "    zernike_features = compute_zernike_moments(image, degree=8)\n",
    "    features.update(zernike_features)\n",
    "\n",
    "    basic_features = compute_basic_feature(image)\n",
    "    features.update(basic_features)\n",
    "\n",
    "    color_features = compute_color_feature(image)\n",
    "    features.update(color_features)\n",
    "\n",
    "    glcm_features = compute_glcm_descriptor(image)\n",
    "    features.update(glcm_features)\n",
    "\n",
    "    percentile_features = compute_percentile_features(image)\n",
    "    features.update(percentile_features)\n",
    "\n",
    "    color_variance_ratios = compute_color_variance_ratios(image)\n",
    "    features.update(color_variance_ratios)\n",
    "\n",
    "    color_range_features = compute_color_range_features(image)\n",
    "    features.update(color_range_features)\n",
    "\n",
    "    # sift_features = compute_sift_features(image)\n",
    "    # features.update(sift_features)\n",
    "\n",
    "    # gist_features = compute_gist_features(image)\n",
    "    # features.update(gist_features)\n",
    "\n",
    "    return features"
   ]
  },
  {
   "cell_type": "code",
   "execution_count": 17,
   "id": "2b790ce22002ef0d",
   "metadata": {
    "ExecuteTime": {
     "end_time": "2025-03-10T10:22:01.776127Z",
     "start_time": "2025-03-10T10:22:01.760342Z"
    },
    "execution": {
     "iopub.execute_input": "2025-05-07T03:05:39.853488Z",
     "iopub.status.busy": "2025-05-07T03:05:39.853159Z",
     "iopub.status.idle": "2025-05-07T03:05:39.876910Z",
     "shell.execute_reply": "2025-05-07T03:05:39.875837Z",
     "shell.execute_reply.started": "2025-05-07T03:05:39.853461Z"
    },
    "trusted": true
   },
   "outputs": [],
   "source": [
    "def process_directory(base_path):\n",
    "    all_data = []\n",
    "    image_paths = []\n",
    "    for root, dirs, files in os.walk(base_path):\n",
    "        for file in files:\n",
    "            if file.endswith(('.png', '.jpg', '.jpeg')):\n",
    "                label = 0 if 'negative' in root else 1\n",
    "                image_paths.append((os.path.join(root, file), label))\n",
    "\n",
    "    for image_path, label in tqdm(image_paths, desc=\"Processing Images\"):\n",
    "        image = cv2.imread(image_path)\n",
    "        if image is None:\n",
    "            continue\n",
    "\n",
    "        features = extract_all_features(image)\n",
    "        features[\"Label\"] = label\n",
    "\n",
    "        all_data.append(features)\n",
    "\n",
    "    data = pd.DataFrame(all_data)\n",
    "\n",
    "    return data"
   ]
  },
  {
   "cell_type": "code",
   "execution_count": null,
   "id": "b2b25922",
   "metadata": {
    "execution": {
     "iopub.execute_input": "2025-05-07T03:06:19.650005Z",
     "iopub.status.busy": "2025-05-07T03:06:19.649689Z",
     "iopub.status.idle": "2025-05-07T03:06:19.656513Z",
     "shell.execute_reply": "2025-05-07T03:06:19.655487Z",
     "shell.execute_reply.started": "2025-05-07T03:06:19.649983Z"
    },
    "trusted": true
   },
   "outputs": [],
   "source": [
    "def process_dataset(image_dir):\n",
    "    for subdir in tqdm(os.listdir(image_dir), desc=\"Processing subdirectories\"):\n",
    "        subdir_path = os.path.join(image_dir, subdir)\n",
    "        if os.path.isdir(subdir_path):\n",
    "            label = subdir \n",
    "            dataset_rows = []\n",
    "            for filename in os.listdir(subdir_path):\n",
    "                if filename.endswith(('.jpg', '.png', '.jpeg')):\n",
    "                    img_path = os.path.join(subdir_path, filename)\n",
    "                    image = cv2.imread(img_path)\n",
    "                    if image is not None:\n",
    "                        features = extract_all_features(image)\n",
    "                        row = {'label': label}\n",
    "                        row.update(features)\n",
    "                        dataset_rows.append(row)\n",
    "            if dataset_rows:\n",
    "                df = pd.DataFrame(dataset_rows)\n",
    "                output_path = f'leaf_features_{label}.csv'\n",
    "                df.to_csv(output_path,index=False)\n",
    "    return None\n"
   ]
  },
  {
   "cell_type": "code",
   "execution_count": null,
   "id": "1ec33619-d0b6-40fd-866b-e03ed44abe47",
   "metadata": {
    "execution": {
     "iopub.execute_input": "2025-05-07T03:06:22.846280Z",
     "iopub.status.busy": "2025-05-07T03:06:22.845873Z"
    },
    "trusted": true
   },
   "outputs": [
    {
     "name": "stderr",
     "output_type": "stream",
     "text": [
      "Processing subdirectories:  28%|██▊       | 5/18 [37:29<1:22:25, 380.43s/it] "
     ]
    }
   ],
   "source": [
    "image_dir = \"/kaggle/input/segmented-images-leaves\"\n",
    "process_dataset(image_dir)\n",
    "print(\"All subdirectories processed and saved as separate CSV files.\")"
   ]
  }
 ],
 "metadata": {
  "kaggle": {
   "accelerator": "none",
   "dataSources": [
    {
     "datasetId": 7316231,
     "sourceId": 11658467,
     "sourceType": "datasetVersion"
    }
   ],
   "dockerImageVersionId": 31012,
   "isGpuEnabled": false,
   "isInternetEnabled": true,
   "language": "python",
   "sourceType": "notebook"
  },
  "kernelspec": {
   "display_name": "Python 3",
   "language": "python",
   "name": "python3"
  },
  "language_info": {
   "codemirror_mode": {
    "name": "ipython",
    "version": 3
   },
   "file_extension": ".py",
   "mimetype": "text/x-python",
   "name": "python",
   "nbconvert_exporter": "python",
   "pygments_lexer": "ipython3",
   "version": "3.11.11"
  }
 },
 "nbformat": 4,
 "nbformat_minor": 5
}
