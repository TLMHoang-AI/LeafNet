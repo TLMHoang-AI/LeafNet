{
 "cells": [
  {
   "cell_type": "markdown",
   "id": "ba365369",
   "metadata": {},
   "source": [
    "# Extract features"
   ]
  },
  {
   "cell_type": "code",
   "execution_count": 2,
   "id": "70a71af4",
   "metadata": {},
   "outputs": [
    {
     "name": "stdout",
     "output_type": "stream",
     "text": [
      "['ConvNeXtBase', 'ConvNeXtLarge', 'ConvNeXtSmall', 'ConvNeXtTiny', 'ConvNeXtXLarge', 'DenseNet121', 'DenseNet169', 'DenseNet201', 'EfficientNetB0', 'EfficientNetB1', 'EfficientNetB2', 'EfficientNetB3', 'EfficientNetB4', 'EfficientNetB5', 'EfficientNetB6', 'EfficientNetB7', 'EfficientNetV2B0', 'EfficientNetV2B1', 'EfficientNetV2B2', 'EfficientNetV2B3', 'EfficientNetV2L', 'EfficientNetV2M', 'EfficientNetV2S', 'InceptionResNetV2', 'InceptionV3', 'MobileNet', 'MobileNetV2', 'MobileNetV3Large', 'MobileNetV3Small', 'NASNetLarge', 'NASNetMobile', 'RegNetX002', 'RegNetX004', 'RegNetX006', 'RegNetX008', 'RegNetX016', 'RegNetX032', 'RegNetX040', 'RegNetX064', 'RegNetX080', 'RegNetX120', 'RegNetX160', 'RegNetX320', 'RegNetY002', 'RegNetY004', 'RegNetY006', 'RegNetY008', 'RegNetY016', 'RegNetY032', 'RegNetY040', 'RegNetY064', 'RegNetY080', 'RegNetY120', 'RegNetY160', 'RegNetY320', 'ResNet101', 'ResNet101V2', 'ResNet152', 'ResNet152V2', 'ResNet50', 'ResNet50V2', 'ResNetRS101', 'ResNetRS152', 'ResNetRS200', 'ResNetRS270', 'ResNetRS350', 'ResNetRS420', 'ResNetRS50', 'VGG16', 'VGG19', 'Xception', '__builtins__', '__cached__', '__doc__', '__file__', '__loader__', '__name__', '__package__', '__path__', '__spec__', '_sys', 'convnext', 'densenet', 'efficientnet', 'efficientnet_v2', 'imagenet_utils', 'inception_resnet_v2', 'inception_v3', 'mobilenet', 'mobilenet_v2', 'mobilenet_v3', 'nasnet', 'regnet', 'resnet', 'resnet50', 'resnet_rs', 'resnet_v2', 'vgg16', 'vgg19', 'xception']\n"
     ]
    }
   ],
   "source": [
    "import tensorflow.keras.applications as ka\n",
    "\n",
    "print(dir(ka))\n"
   ]
  },
  {
   "cell_type": "markdown",
   "id": "dcf3a82f",
   "metadata": {},
   "source": [
    "## Flatten VGG19"
   ]
  },
  {
   "cell_type": "code",
   "execution_count": null,
   "id": "ab359514",
   "metadata": {},
   "outputs": [
    {
     "name": "stdout",
     "output_type": "stream",
     "text": [
      "Downloading data from https://storage.googleapis.com/tensorflow/keras-applications/vgg19/vgg19_weights_tf_dim_ordering_tf_kernels_notop.h5\n",
      "80134624/80134624 [==============================] - 4s 0us/step\n"
     ]
    },
    {
     "name": "stderr",
     "output_type": "stream",
     "text": [
      "Processing Apple___Apple_scab: 100%|██████████| 669/669 [00:42<00:00, 15.71it/s]\n",
      "Processing Apple___Black_rot: 100%|██████████| 621/621 [00:38<00:00, 16.19it/s]\n",
      "Processing Apple___Cedar_apple_rust: 100%|██████████| 304/304 [00:19<00:00, 15.68it/s]\n",
      "Processing Apple___healthy: 100%|██████████| 1670/1670 [01:41<00:00, 16.38it/s]\n",
      "Processing Cherry_(including_sour)___healthy: 100%|██████████| 854/854 [00:52<00:00, 16.18it/s]\n",
      "Processing Cherry_(including_sour)___Powdery_mildew: 100%|██████████| 1052/1052 [01:04<00:00, 16.21it/s]\n",
      "Processing Grape Brown_Spot: 100%|██████████| 782/782 [00:54<00:00, 14.33it/s]\n",
      "Processing Grape Downy_Mildew: 100%|██████████| 392/392 [00:28<00:00, 13.87it/s]\n",
      "Processing Grape Mites_Disease: 100%|██████████| 400/400 [00:29<00:00, 13.55it/s]\n",
      "Processing Grape___Black_rot: 100%|██████████| 1794/1794 [02:00<00:00, 14.91it/s]\n",
      "Processing Grape___Esca_(Black_Measles): 100%|██████████| 1383/1383 [01:39<00:00, 13.89it/s]\n",
      "Processing Grape___healthy: 100%|██████████| 1292/1292 [01:38<00:00, 13.18it/s]\n",
      "Processing Grape___Leaf_blight_(Isariopsis_Leaf_Spot): 100%|██████████| 1076/1076 [01:18<00:00, 13.74it/s]\n",
      "Processing Mango Gall Midge: 100%|██████████| 500/500 [00:36<00:00, 13.64it/s]\n",
      "Processing Mango Powdery Mildew: 100%|██████████| 500/500 [00:37<00:00, 13.23it/s]\n",
      "Processing Mango Sooty Mould: 100%|██████████| 500/500 [00:37<00:00, 13.34it/s]\n",
      "Processing Peach___Bacterial_spot: 100%|██████████| 2297/2297 [02:51<00:00, 13.38it/s]\n",
      "Processing Peach___healthy: 100%|██████████| 360/360 [00:27<00:00, 13.15it/s]\n"
     ]
    },
    {
     "name": "stdout",
     "output_type": "stream",
     "text": [
      "Đã lưu: features, labels và image_names vào 'vgg19_features.pkl'\n"
     ]
    }
   ],
   "source": [
    "import os\n",
    "import numpy as np\n",
    "import pickle\n",
    "from tensorflow.keras.applications.vgg19 import VGG19, preprocess_input\n",
    "from tensorflow.keras.preprocessing import image\n",
    "from tensorflow.keras.models import Model\n",
    "from tqdm import tqdm\n",
    "\n",
    "data_dir = r\"C:\\Users\\Admin\\Documents\\Python Project\\Res conn 2025\\final_data\\Final_segmentation\\Final_segmentation\\images\"\n",
    "\n",
    "base_model = VGG19(weights='imagenet', include_top=False)\n",
    "model = Model(inputs=base_model.input, outputs=base_model.output)\n",
    "\n",
    "target_size = (224, 224)\n",
    "\n",
    "features = []\n",
    "labels = []\n",
    "image_names = []\n",
    "\n",
    "for class_name in os.listdir(data_dir):\n",
    "    class_path = os.path.join(data_dir, class_name)\n",
    "    if not os.path.isdir(class_path):\n",
    "        continue\n",
    "\n",
    "    for img_name in tqdm(os.listdir(class_path), desc=f\"Processing {class_name}\"):\n",
    "        img_path = os.path.join(class_path, img_name)\n",
    "        try:\n",
    "            img = image.load_img(img_path, target_size=target_size)\n",
    "            img_array = image.img_to_array(img)\n",
    "            img_array = np.expand_dims(img_array, axis=0)\n",
    "            img_array = preprocess_input(img_array)\n",
    "\n",
    "            feature = model.predict(img_array, verbose=0)\n",
    "            feature = feature.flatten()\n",
    "\n",
    "            features.append(feature)\n",
    "            labels.append(class_name)\n",
    "            image_names.append(img_name)\n",
    "        except Exception as e:\n",
    "            print(f\"Lỗi xử lý ảnh: {img_path}\\n{e}\")\n",
    "\n",
    "output = {\n",
    "    'features': features,\n",
    "    'labels': labels,\n",
    "    'image_names': image_names\n",
    "}\n",
    "\n",
    "with open(\"vgg19_features.pkl\", \"wb\") as f:\n",
    "    pickle.dump(output, f)\n",
    "\n",
    "print(\"Đã lưu: features, labels và image_names vào 'vgg19_features.pkl'\")\n"
   ]
  },
  {
   "cell_type": "markdown",
   "id": "dc546353",
   "metadata": {},
   "source": [
    "## VGG19(GAP)"
   ]
  },
  {
   "cell_type": "code",
   "execution_count": 1,
   "id": "49552a39",
   "metadata": {},
   "outputs": [
    {
     "name": "stderr",
     "output_type": "stream",
     "text": [
      "Processing Apple___Apple_scab: 100%|██████████| 669/669 [00:45<00:00, 14.80it/s]\n",
      "Processing Apple___Black_rot: 100%|██████████| 621/621 [00:39<00:00, 15.80it/s]\n",
      "Processing Apple___Cedar_apple_rust: 100%|██████████| 304/304 [00:18<00:00, 16.04it/s]\n",
      "Processing Apple___healthy: 100%|██████████| 1670/1670 [01:42<00:00, 16.34it/s]\n",
      "Processing Cherry_(including_sour)___healthy: 100%|██████████| 854/854 [00:49<00:00, 17.28it/s]\n",
      "Processing Cherry_(including_sour)___Powdery_mildew: 100%|██████████| 1052/1052 [01:01<00:00, 17.20it/s]\n",
      "Processing Grape Brown_Spot: 100%|██████████| 782/782 [00:49<00:00, 15.95it/s]\n",
      "Processing Grape Downy_Mildew: 100%|██████████| 392/392 [00:25<00:00, 15.24it/s]\n",
      "Processing Grape Mites_Disease: 100%|██████████| 400/400 [00:26<00:00, 15.14it/s]\n",
      "Processing Grape___Black_rot: 100%|██████████| 1794/1794 [01:53<00:00, 15.75it/s]\n",
      "Processing Grape___Esca_(Black_Measles): 100%|██████████| 1383/1383 [01:26<00:00, 16.03it/s]\n",
      "Processing Grape___healthy: 100%|██████████| 1292/1292 [01:24<00:00, 15.31it/s]\n",
      "Processing Grape___Leaf_blight_(Isariopsis_Leaf_Spot): 100%|██████████| 1076/1076 [01:03<00:00, 16.93it/s]\n",
      "Processing Mango Gall Midge: 100%|██████████| 500/500 [00:29<00:00, 16.68it/s]\n",
      "Processing Mango Powdery Mildew: 100%|██████████| 500/500 [00:30<00:00, 16.42it/s]\n",
      "Processing Mango Sooty Mould: 100%|██████████| 500/500 [00:35<00:00, 14.26it/s]\n",
      "Processing Peach___Bacterial_spot: 100%|██████████| 2297/2297 [02:22<00:00, 16.12it/s]\n",
      "Processing Peach___healthy: 100%|██████████| 360/360 [00:21<00:00, 16.51it/s]\n"
     ]
    },
    {
     "name": "stdout",
     "output_type": "stream",
     "text": [
      "✅ Đã lưu: features (GAP), labels và image_names vào 'vgg19_gap_features.pkl'\n"
     ]
    }
   ],
   "source": [
    "import os\n",
    "import numpy as np\n",
    "import pickle\n",
    "from tensorflow.keras.applications.vgg19 import VGG19, preprocess_input\n",
    "from tensorflow.keras.preprocessing import image\n",
    "from tensorflow.keras.models import Sequential\n",
    "from tensorflow.keras.layers import GlobalAveragePooling2D\n",
    "from tqdm import tqdm\n",
    "\n",
    "data_dir = r\"C:\\Users\\Admin\\Documents\\Python Project\\Res conn 2025\\final_data\\Final_segmentation\\Final_segmentation\\images\"\n",
    "\n",
    "# Dùng VGG19 + Global Average Pooling\n",
    "base_model = VGG19(weights='imagenet', include_top=False, input_shape=(224, 224, 3))\n",
    "model = Sequential([\n",
    "    base_model,\n",
    "    GlobalAveragePooling2D()\n",
    "])\n",
    "\n",
    "target_size = (224, 224)\n",
    "\n",
    "features = []\n",
    "labels = []\n",
    "image_names = []\n",
    "\n",
    "for class_name in os.listdir(data_dir):\n",
    "    class_path = os.path.join(data_dir, class_name)\n",
    "    if not os.path.isdir(class_path):\n",
    "        continue\n",
    "\n",
    "    for img_name in tqdm(os.listdir(class_path), desc=f\"Processing {class_name}\"):\n",
    "        img_path = os.path.join(class_path, img_name)\n",
    "        try:\n",
    "            img = image.load_img(img_path, target_size=target_size)\n",
    "            img_array = image.img_to_array(img)\n",
    "            img_array = np.expand_dims(img_array, axis=0)\n",
    "            img_array = preprocess_input(img_array)\n",
    "\n",
    "            feature = model.predict(img_array, verbose=0)  # shape (1, 512)\n",
    "            features.append(feature.flatten())\n",
    "            labels.append(class_name)\n",
    "            image_names.append(img_name)\n",
    "        except Exception as e:\n",
    "            print(f\"Lỗi xử lý ảnh: {img_path}\\n{e}\")\n",
    "\n",
    "output = {\n",
    "    'features': features,\n",
    "    'labels': labels,\n",
    "    'image_names': image_names\n",
    "}\n",
    "\n",
    "with open(\"vgg19_gap_features.pkl\", \"wb\") as f:\n",
    "    pickle.dump(output, f)\n",
    "\n",
    "print(\"✅ Đã lưu: features (GAP), labels và image_names vào 'vgg19_gap_features.pkl'\")"
   ]
  },
  {
   "cell_type": "markdown",
   "id": "faefe2a8",
   "metadata": {},
   "source": [
    "## Resnet50(GAP)"
   ]
  },
  {
   "cell_type": "code",
   "execution_count": 1,
   "id": "1c7e6258",
   "metadata": {},
   "outputs": [
    {
     "name": "stderr",
     "output_type": "stream",
     "text": [
      "Processing Apple___Apple_scab: 100%|██████████| 669/669 [00:45<00:00, 14.83it/s]\n",
      "Processing Apple___Black_rot: 100%|██████████| 621/621 [00:39<00:00, 15.67it/s]\n",
      "Processing Apple___Cedar_apple_rust: 100%|██████████| 304/304 [00:18<00:00, 16.86it/s]\n",
      "Processing Apple___healthy: 100%|██████████| 1670/1670 [01:43<00:00, 16.12it/s]\n",
      "Processing Cherry_(including_sour)___healthy: 100%|██████████| 854/854 [00:52<00:00, 16.39it/s]\n",
      "Processing Cherry_(including_sour)___Powdery_mildew: 100%|██████████| 1052/1052 [01:04<00:00, 16.30it/s]\n",
      "Processing Grape Brown_Spot: 100%|██████████| 782/782 [00:50<00:00, 15.43it/s]\n",
      "Processing Grape Downy_Mildew: 100%|██████████| 392/392 [00:26<00:00, 14.87it/s]\n",
      "Processing Grape Mites_Disease: 100%|██████████| 400/400 [00:25<00:00, 15.53it/s]\n",
      "Processing Grape___Black_rot: 100%|██████████| 1794/1794 [01:54<00:00, 15.73it/s]\n",
      "Processing Grape___Esca_(Black_Measles): 100%|██████████| 1383/1383 [01:22<00:00, 16.84it/s]\n",
      "Processing Grape___healthy: 100%|██████████| 1292/1292 [01:25<00:00, 15.18it/s]\n",
      "Processing Grape___Leaf_blight_(Isariopsis_Leaf_Spot): 100%|██████████| 1076/1076 [01:07<00:00, 15.90it/s]\n",
      "Processing Mango Gall Midge: 100%|██████████| 500/500 [00:33<00:00, 14.98it/s]\n",
      "Processing Mango Powdery Mildew: 100%|██████████| 500/500 [00:32<00:00, 15.29it/s]\n",
      "Processing Mango Sooty Mould: 100%|██████████| 500/500 [00:32<00:00, 15.23it/s]\n",
      "Processing Peach___Bacterial_spot: 100%|██████████| 2297/2297 [02:42<00:00, 14.14it/s]\n",
      "Processing Peach___healthy: 100%|██████████| 360/360 [00:24<00:00, 14.95it/s]\n"
     ]
    },
    {
     "name": "stdout",
     "output_type": "stream",
     "text": [
      "✅ Đã lưu: features (GAP), labels và image_names vào 'resnet50_gap_features.pkl'\n"
     ]
    }
   ],
   "source": [
    "import os\n",
    "import numpy as np\n",
    "import pickle\n",
    "from tensorflow.keras.applications.resnet50 import ResNet50, preprocess_input\n",
    "from tensorflow.keras.preprocessing import image\n",
    "from tensorflow.keras.models import Sequential\n",
    "from tensorflow.keras.layers import GlobalAveragePooling2D\n",
    "from tqdm import tqdm\n",
    "\n",
    "data_dir = r\"C:\\Users\\Admin\\Documents\\Python Project\\Res conn 2025\\final_data\\Final_segmentation\\Final_segmentation\\images\"\n",
    "\n",
    "# Sử dụng ResNet50\n",
    "base_model = ResNet50(weights='imagenet', include_top=False, input_shape=(224, 224, 3))\n",
    "model = Sequential([\n",
    "    base_model,\n",
    "    GlobalAveragePooling2D()\n",
    "])\n",
    "\n",
    "target_size = (224, 224)\n",
    "\n",
    "features = []\n",
    "labels = []\n",
    "image_names = []\n",
    "\n",
    "for class_name in os.listdir(data_dir):\n",
    "    class_path = os.path.join(data_dir, class_name)\n",
    "    if not os.path.isdir(class_path):\n",
    "        continue\n",
    "\n",
    "    for img_name in tqdm(os.listdir(class_path), desc=f\"Processing {class_name}\"):\n",
    "        img_path = os.path.join(class_path, img_name)\n",
    "        try:\n",
    "            img = image.load_img(img_path, target_size=target_size)\n",
    "            img_array = image.img_to_array(img)\n",
    "            img_array = np.expand_dims(img_array, axis=0)\n",
    "            img_array = preprocess_input(img_array)\n",
    "\n",
    "            feature = model.predict(img_array, verbose=0)  # shape (1, 2048)\n",
    "            features.append(feature.flatten())\n",
    "            labels.append(class_name)\n",
    "            image_names.append(img_name)\n",
    "        except Exception as e:\n",
    "            print(f\"Lỗi xử lý ảnh: {img_path}\\n{e}\")\n",
    "\n",
    "output = {\n",
    "    'features': features,\n",
    "    'labels': labels,\n",
    "    'image_names': image_names\n",
    "}\n",
    "\n",
    "with open(\"resnet50_gap_features.pkl\", \"wb\") as f:\n",
    "    pickle.dump(output, f)\n",
    "\n",
    "print(\"✅ Đã lưu: features (GAP), labels và image_names vào 'resnet50_gap_features.pkl'\")\n"
   ]
  },
  {
   "cell_type": "markdown",
   "id": "f9f1159c",
   "metadata": {},
   "source": [
    "## Efficient Net"
   ]
  },
  {
   "cell_type": "code",
   "execution_count": 1,
   "id": "fc1a0a76",
   "metadata": {},
   "outputs": [
    {
     "name": "stdout",
     "output_type": "stream",
     "text": [
      "Downloading data from https://storage.googleapis.com/keras-applications/efficientnetb0_notop.h5\n",
      "16705208/16705208 [==============================] - 2s 0us/step\n"
     ]
    },
    {
     "name": "stderr",
     "output_type": "stream",
     "text": [
      "Processing Apple___Apple_scab: 100%|██████████| 669/669 [00:41<00:00, 15.99it/s]\n",
      "Processing Apple___Black_rot: 100%|██████████| 621/621 [00:34<00:00, 18.24it/s]\n",
      "Processing Apple___Cedar_apple_rust: 100%|██████████| 304/304 [00:16<00:00, 18.02it/s]\n",
      "Processing Apple___healthy: 100%|██████████| 1670/1670 [01:31<00:00, 18.19it/s]\n",
      "Processing Cherry_(including_sour)___healthy: 100%|██████████| 854/854 [00:47<00:00, 17.96it/s]\n",
      "Processing Cherry_(including_sour)___Powdery_mildew: 100%|██████████| 1052/1052 [00:58<00:00, 17.97it/s]\n",
      "Processing Grape Brown_Spot: 100%|██████████| 782/782 [00:47<00:00, 16.34it/s]\n",
      "Processing Grape Downy_Mildew: 100%|██████████| 392/392 [00:24<00:00, 16.08it/s]\n",
      "Processing Grape Mites_Disease: 100%|██████████| 400/400 [00:24<00:00, 16.26it/s]\n",
      "Processing Grape___Black_rot: 100%|██████████| 1794/1794 [01:56<00:00, 15.42it/s]\n",
      "Processing Grape___Esca_(Black_Measles): 100%|██████████| 1383/1383 [01:32<00:00, 14.93it/s]\n",
      "Processing Grape___healthy: 100%|██████████| 1292/1292 [01:19<00:00, 16.34it/s]\n",
      "Processing Grape___Leaf_blight_(Isariopsis_Leaf_Spot): 100%|██████████| 1076/1076 [01:02<00:00, 17.10it/s]\n",
      "Processing Mango Gall Midge: 100%|██████████| 500/500 [00:29<00:00, 17.04it/s]\n",
      "Processing Mango Powdery Mildew: 100%|██████████| 500/500 [00:29<00:00, 17.18it/s]\n",
      "Processing Mango Sooty Mould: 100%|██████████| 500/500 [00:29<00:00, 16.86it/s]\n",
      "Processing Peach___Bacterial_spot: 100%|██████████| 2297/2297 [02:23<00:00, 15.99it/s]\n",
      "Processing Peach___healthy: 100%|██████████| 360/360 [00:21<00:00, 16.48it/s]\n"
     ]
    },
    {
     "name": "stdout",
     "output_type": "stream",
     "text": [
      "✅ Đã lưu: features (GAP), labels và image_names vào 'efficientnetb0_gap_features.pkl'\n"
     ]
    }
   ],
   "source": [
    "import os\n",
    "import numpy as np\n",
    "import pickle\n",
    "from tensorflow.keras.applications.efficientnet import EfficientNetB0, preprocess_input\n",
    "from tensorflow.keras.preprocessing import image\n",
    "from tensorflow.keras.models import Sequential\n",
    "from tensorflow.keras.layers import GlobalAveragePooling2D\n",
    "from tqdm import tqdm\n",
    "\n",
    "data_dir = r\"C:\\Users\\Admin\\Documents\\Python Project\\Res conn 2025\\final_data\\Final_segmentation\\Final_segmentation\\images\"\n",
    "\n",
    "# Sử dụng EfficientNetB0\n",
    "base_model = EfficientNetB0(weights='imagenet', include_top=False, input_shape=(224, 224, 3))\n",
    "model = Sequential([\n",
    "    base_model,\n",
    "    GlobalAveragePooling2D()\n",
    "])\n",
    "\n",
    "target_size = (224, 224)\n",
    "\n",
    "features = []\n",
    "labels = []\n",
    "image_names = []\n",
    "\n",
    "for class_name in os.listdir(data_dir):\n",
    "    class_path = os.path.join(data_dir, class_name)\n",
    "    if not os.path.isdir(class_path):\n",
    "        continue\n",
    "\n",
    "    for img_name in tqdm(os.listdir(class_path), desc=f\"Processing {class_name}\"):\n",
    "        img_path = os.path.join(class_path, img_name)\n",
    "        try:\n",
    "            img = image.load_img(img_path, target_size=target_size)\n",
    "            img_array = image.img_to_array(img)\n",
    "            img_array = np.expand_dims(img_array, axis=0)\n",
    "            img_array = preprocess_input(img_array)  # Sử dụng preprocess của EfficientNet\n",
    "\n",
    "            feature = model.predict(img_array, verbose=0)\n",
    "            features.append(feature.flatten())\n",
    "            labels.append(class_name)\n",
    "            image_names.append(img_name)\n",
    "        except Exception as e:\n",
    "            print(f\"Lỗi xử lý ảnh: {img_path}\\n{e}\")\n",
    "\n",
    "output = {\n",
    "    'features': features,\n",
    "    'labels': labels,\n",
    "    'image_names': image_names\n",
    "}\n",
    "\n",
    "with open(\"efficientnetb0_gap_features.pkl\", \"wb\") as f:\n",
    "    pickle.dump(output, f)\n",
    "\n",
    "print(\"✅ Đã lưu: features (GAP), labels và image_names vào 'efficientnetb0_gap_features.pkl'\")\n"
   ]
  },
  {
   "cell_type": "markdown",
   "id": "ab4f99b7",
   "metadata": {},
   "source": [
    "## DenseNet201"
   ]
  },
  {
   "cell_type": "code",
   "execution_count": 1,
   "id": "4ddd26de",
   "metadata": {},
   "outputs": [
    {
     "name": "stdout",
     "output_type": "stream",
     "text": [
      "Downloading data from https://storage.googleapis.com/tensorflow/keras-applications/densenet/densenet201_weights_tf_dim_ordering_tf_kernels_notop.h5\n",
      "74836368/74836368 [==============================] - 4s 0us/step\n"
     ]
    },
    {
     "name": "stderr",
     "output_type": "stream",
     "text": [
      "Processing Apple___Apple_scab: 100%|██████████| 669/669 [00:54<00:00, 12.35it/s]\n",
      "Processing Apple___Black_rot: 100%|██████████| 621/621 [00:45<00:00, 13.62it/s]\n",
      "Processing Apple___Cedar_apple_rust: 100%|██████████| 304/304 [00:21<00:00, 13.93it/s]\n",
      "Processing Apple___healthy: 100%|██████████| 1670/1670 [02:02<00:00, 13.68it/s]\n",
      "Processing Cherry_(including_sour)___healthy: 100%|██████████| 854/854 [01:02<00:00, 13.64it/s]\n",
      "Processing Cherry_(including_sour)___Powdery_mildew: 100%|██████████| 1052/1052 [01:17<00:00, 13.61it/s]\n",
      "Processing Grape Brown_Spot: 100%|██████████| 782/782 [01:01<00:00, 12.63it/s]\n",
      "Processing Grape Downy_Mildew: 100%|██████████| 392/392 [00:31<00:00, 12.41it/s]\n",
      "Processing Grape Mites_Disease: 100%|██████████| 400/400 [00:31<00:00, 12.76it/s]\n",
      "Processing Grape___Black_rot: 100%|██████████| 1794/1794 [02:17<00:00, 13.05it/s]\n",
      "Processing Grape___Esca_(Black_Measles): 100%|██████████| 1383/1383 [01:44<00:00, 13.22it/s]\n",
      "Processing Grape___healthy: 100%|██████████| 1292/1292 [01:42<00:00, 12.60it/s]\n",
      "Processing Grape___Leaf_blight_(Isariopsis_Leaf_Spot): 100%|██████████| 1076/1076 [01:23<00:00, 12.95it/s]\n",
      "Processing Mango Gall Midge: 100%|██████████| 500/500 [00:38<00:00, 13.10it/s]\n",
      "Processing Mango Powdery Mildew: 100%|██████████| 500/500 [00:39<00:00, 12.72it/s]\n",
      "Processing Mango Sooty Mould: 100%|██████████| 500/500 [00:38<00:00, 12.87it/s]\n",
      "Processing Peach___Bacterial_spot: 100%|██████████| 2297/2297 [03:01<00:00, 12.68it/s]\n",
      "Processing Peach___healthy: 100%|██████████| 360/360 [00:29<00:00, 12.23it/s]\n"
     ]
    },
    {
     "name": "stdout",
     "output_type": "stream",
     "text": [
      "✅ Đã lưu: features (GAP), labels và image_names vào 'densenet201_gap_features.pkl'\n"
     ]
    }
   ],
   "source": [
    "import os\n",
    "import numpy as np\n",
    "import pickle\n",
    "from tensorflow.keras.applications import DenseNet201, densenet\n",
    "from tensorflow.keras.preprocessing import image\n",
    "from tensorflow.keras.models import Sequential\n",
    "from tensorflow.keras.layers import GlobalAveragePooling2D\n",
    "from tqdm import tqdm\n",
    "\n",
    "os.environ[\"CUDA_VISIBLE_DEVICES\"] = \"0\"\n",
    "\n",
    "data_dir = r\"C:\\Users\\Admin\\Documents\\Python Project\\Res conn 2025\\final_data\\Final_segmentation\\Final_segmentation\\images\"\n",
    "\n",
    "# Dùng DenseNet201\n",
    "base_model = DenseNet201(weights='imagenet', include_top=False, input_shape=(224, 224, 3))\n",
    "model = Sequential([\n",
    "    base_model,\n",
    "    GlobalAveragePooling2D()\n",
    "])\n",
    "\n",
    "target_size = (224, 224)\n",
    "\n",
    "features = []\n",
    "labels = []\n",
    "image_names = []\n",
    "\n",
    "for class_name in os.listdir(data_dir):\n",
    "    class_path = os.path.join(data_dir, class_name)\n",
    "    if not os.path.isdir(class_path):\n",
    "        continue\n",
    "\n",
    "    for img_name in tqdm(os.listdir(class_path), desc=f\"Processing {class_name}\"):\n",
    "        img_path = os.path.join(class_path, img_name)\n",
    "        try:\n",
    "            img = image.load_img(img_path, target_size=target_size)\n",
    "            img_array = image.img_to_array(img)\n",
    "            img_array = np.expand_dims(img_array, axis=0)\n",
    "            img_array = densenet.preprocess_input(img_array)  # preprocess cho DenseNet\n",
    "\n",
    "            feature = model.predict(img_array, verbose=0)\n",
    "            features.append(feature.flatten())\n",
    "            labels.append(class_name)\n",
    "            image_names.append(img_name)\n",
    "        except Exception as e:\n",
    "            print(f\"Lỗi xử lý ảnh: {img_path}\\n{e}\")\n",
    "\n",
    "output = {\n",
    "    'features': features,\n",
    "    'labels': labels,\n",
    "    'image_names': image_names\n",
    "}\n",
    "\n",
    "with open(\"densenet201_gap_features.pkl\", \"wb\") as f:\n",
    "    pickle.dump(output, f)\n",
    "\n",
    "print(\"✅ Đã lưu: features (GAP), labels và image_names vào 'densenet201_gap_features.pkl'\")\n"
   ]
  },
  {
   "cell_type": "markdown",
   "id": "ad555e14",
   "metadata": {},
   "source": [
    "## RegNet"
   ]
  },
  {
   "cell_type": "code",
   "execution_count": null,
   "id": "e3c7523e",
   "metadata": {},
   "outputs": [],
   "source": [
    "img_array = np.expand_dims(img_array, axis=0)\n"
   ]
  }
 ],
 "metadata": {
  "kernelspec": {
   "display_name": "tf",
   "language": "python",
   "name": "python3"
  },
  "language_info": {
   "codemirror_mode": {
    "name": "ipython",
    "version": 3
   },
   "file_extension": ".py",
   "mimetype": "text/x-python",
   "name": "python",
   "nbconvert_exporter": "python",
   "pygments_lexer": "ipython3",
   "version": "3.10.18"
  }
 },
 "nbformat": 4,
 "nbformat_minor": 5
}
